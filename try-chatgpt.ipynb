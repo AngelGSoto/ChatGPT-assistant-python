{
 "cells": [
  {
   "cell_type": "code",
   "execution_count": 1,
   "id": "2a9b11cd-a6a4-45fe-94c2-2a8f13105257",
   "metadata": {},
   "outputs": [
    {
     "name": "stdout",
     "output_type": "stream",
     "text": [
      "Requirement already satisfied: ipython-gpt in /home/luis/anaconda3/lib/python3.8/site-packages (0.0.6)\n",
      "Requirement already satisfied: ipython<9.0.0,>=8.12.0 in /home/luis/anaconda3/lib/python3.8/site-packages (from ipython-gpt) (8.12.2)\n",
      "Requirement already satisfied: backcall in /home/luis/anaconda3/lib/python3.8/site-packages (from ipython<9.0.0,>=8.12.0->ipython-gpt) (0.2.0)\n",
      "Requirement already satisfied: decorator in /home/luis/anaconda3/lib/python3.8/site-packages (from ipython<9.0.0,>=8.12.0->ipython-gpt) (5.1.0)\n",
      "Requirement already satisfied: jedi>=0.16 in /home/luis/anaconda3/lib/python3.8/site-packages (from ipython<9.0.0,>=8.12.0->ipython-gpt) (0.17.2)\n",
      "Requirement already satisfied: matplotlib-inline in /home/luis/anaconda3/lib/python3.8/site-packages (from ipython<9.0.0,>=8.12.0->ipython-gpt) (0.1.2)\n",
      "Requirement already satisfied: pickleshare in /home/luis/anaconda3/lib/python3.8/site-packages (from ipython<9.0.0,>=8.12.0->ipython-gpt) (0.7.5)\n",
      "Requirement already satisfied: prompt-toolkit!=3.0.37,<3.1.0,>=3.0.30 in /home/luis/anaconda3/lib/python3.8/site-packages (from ipython<9.0.0,>=8.12.0->ipython-gpt) (3.0.38)\n",
      "Requirement already satisfied: pygments>=2.4.0 in /home/luis/anaconda3/lib/python3.8/site-packages (from ipython<9.0.0,>=8.12.0->ipython-gpt) (2.10.0)\n",
      "Requirement already satisfied: stack-data in /home/luis/anaconda3/lib/python3.8/site-packages (from ipython<9.0.0,>=8.12.0->ipython-gpt) (0.6.2)\n",
      "Requirement already satisfied: traitlets>=5 in /home/luis/anaconda3/lib/python3.8/site-packages (from ipython<9.0.0,>=8.12.0->ipython-gpt) (5.1.0)\n",
      "Requirement already satisfied: typing-extensions in /home/luis/anaconda3/lib/python3.8/site-packages (from ipython<9.0.0,>=8.12.0->ipython-gpt) (3.10.0.2)\n",
      "Requirement already satisfied: pexpect>4.3 in /home/luis/anaconda3/lib/python3.8/site-packages (from ipython<9.0.0,>=8.12.0->ipython-gpt) (4.8.0)\n",
      "Requirement already satisfied: parso<0.8.0,>=0.7.0 in /home/luis/anaconda3/lib/python3.8/site-packages (from jedi>=0.16->ipython<9.0.0,>=8.12.0->ipython-gpt) (0.7.0)\n",
      "Requirement already satisfied: ptyprocess>=0.5 in /home/luis/anaconda3/lib/python3.8/site-packages (from pexpect>4.3->ipython<9.0.0,>=8.12.0->ipython-gpt) (0.7.0)\n",
      "Requirement already satisfied: wcwidth in /home/luis/anaconda3/lib/python3.8/site-packages (from prompt-toolkit!=3.0.37,<3.1.0,>=3.0.30->ipython<9.0.0,>=8.12.0->ipython-gpt) (0.2.5)\n",
      "Requirement already satisfied: executing>=1.2.0 in /home/luis/anaconda3/lib/python3.8/site-packages (from stack-data->ipython<9.0.0,>=8.12.0->ipython-gpt) (1.2.0)\n",
      "Requirement already satisfied: asttokens>=2.1.0 in /home/luis/anaconda3/lib/python3.8/site-packages (from stack-data->ipython<9.0.0,>=8.12.0->ipython-gpt) (2.2.1)\n",
      "Requirement already satisfied: pure-eval in /home/luis/anaconda3/lib/python3.8/site-packages (from stack-data->ipython<9.0.0,>=8.12.0->ipython-gpt) (0.2.2)\n",
      "Requirement already satisfied: six in /home/luis/anaconda3/lib/python3.8/site-packages (from asttokens>=2.1.0->stack-data->ipython<9.0.0,>=8.12.0->ipython-gpt) (1.16.0)\n",
      "\u001b[33mWARNING: Error parsing requirements for matplotlib: [Errno 2] No such file or directory: '/home/luis/anaconda3/lib/python3.8/site-packages/matplotlib-3.3.4.dist-info/METADATA'\u001b[0m\u001b[33m\n",
      "\u001b[0m"
     ]
    }
   ],
   "source": [
    "!pip install ipython-gpt"
   ]
  },
  {
   "cell_type": "code",
   "execution_count": 2,
   "id": "5d9afd78-65b4-4d67-a885-767fec0bdca2",
   "metadata": {},
   "outputs": [],
   "source": [
    "%load_ext ipython_gpt"
   ]
  },
  {
   "cell_type": "code",
   "execution_count": 3,
   "id": "709658b4-7cd6-497d-8070-b20dc1cbf729",
   "metadata": {},
   "outputs": [
    {
     "data": {
      "text/markdown": [
       "<div style='width:60%;margin-left:5%;overflow: scroll;max-height:500px'>\n",
       "\n",
       "As an AI language model, I do not have personal beliefs or opinions. The purpose of life is subjective and can vary from\n",
       "\n",
       "</div>"
      ],
      "text/plain": [
       "<IPython.core.display.Markdown object>"
      ]
     },
     "metadata": {},
     "output_type": "display_data"
    }
   ],
   "source": [
    "%%chat --max-tokens=25\n",
    "\n",
    "What's the purpose of life?\n"
   ]
  },
  {
   "cell_type": "code",
   "execution_count": null,
   "id": "559958a2-b6d3-45b1-aeae-ac0ab31546bd",
   "metadata": {},
   "outputs": [],
   "source": []
  },
  {
   "cell_type": "code",
   "execution_count": 8,
   "id": "8dd9d152-c6a1-47eb-b6ea-556f0a57077e",
   "metadata": {},
   "outputs": [
    {
     "name": "stdout",
     "output_type": "stream",
     "text": [
      "Object `spanish` not found.\n"
     ]
    }
   ],
   "source": [
    "\n"
   ]
  },
  {
   "cell_type": "code",
   "execution_count": null,
   "id": "ff37b14a-0331-4b6d-b3ed-d2c473fffa0b",
   "metadata": {},
   "outputs": [],
   "source": []
  },
  {
   "cell_type": "code",
   "execution_count": 9,
   "id": "6a4633a5-7548-4964-8248-d22ecd77969f",
   "metadata": {},
   "outputs": [],
   "source": [
    "import pandas as pd"
   ]
  },
  {
   "cell_type": "code",
   "execution_count": 10,
   "id": "e2e9f2f8-fc2c-4cd7-91d0-ccac8409db6b",
   "metadata": {},
   "outputs": [],
   "source": [
    "df = pd.read_csv('PN-candidates-aller.csv')"
   ]
  },
  {
   "cell_type": "code",
   "execution_count": 11,
   "id": "06eb33d4-c615-4f1e-b7f4-c2fdb8e20e87",
   "metadata": {},
   "outputs": [
    {
     "data": {
      "text/html": [
       "<div>\n",
       "<style scoped>\n",
       "    .dataframe tbody tr th:only-of-type {\n",
       "        vertical-align: middle;\n",
       "    }\n",
       "\n",
       "    .dataframe tbody tr th {\n",
       "        vertical-align: top;\n",
       "    }\n",
       "\n",
       "    .dataframe thead th {\n",
       "        text-align: right;\n",
       "    }\n",
       "</style>\n",
       "<table border=\"1\" class=\"dataframe\">\n",
       "  <thead>\n",
       "    <tr style=\"text-align: right;\">\n",
       "      <th></th>\n",
       "      <th>ID</th>\n",
       "      <th>RA</th>\n",
       "      <th>DEC</th>\n",
       "      <th>u_PStotal</th>\n",
       "      <th>J0378_PStotal</th>\n",
       "      <th>J0395_PStotal</th>\n",
       "      <th>J0410_PStotal</th>\n",
       "      <th>J0430_PStotal</th>\n",
       "      <th>g_PStotal</th>\n",
       "      <th>J0515_PStotal</th>\n",
       "      <th>...</th>\n",
       "      <th>e_J0395_PStotal</th>\n",
       "      <th>e_J0410_PStotal</th>\n",
       "      <th>e_J0430_PStotal</th>\n",
       "      <th>e_g_PStotal</th>\n",
       "      <th>e_J0515_PStotal</th>\n",
       "      <th>e_r_PStotal</th>\n",
       "      <th>e_J0660_PStotal</th>\n",
       "      <th>e_i_PStotal</th>\n",
       "      <th>e_J0861_PStotal</th>\n",
       "      <th>e_z_PStotal</th>\n",
       "    </tr>\n",
       "  </thead>\n",
       "  <tbody>\n",
       "    <tr>\n",
       "      <th>0</th>\n",
       "      <td>DR3.HYDRA-0026.050342</td>\n",
       "      <td>158.855358</td>\n",
       "      <td>-24.748192</td>\n",
       "      <td>19.067427</td>\n",
       "      <td>18.508986</td>\n",
       "      <td>18.964823</td>\n",
       "      <td>19.348494</td>\n",
       "      <td>19.000832</td>\n",
       "      <td>18.663876</td>\n",
       "      <td>18.935287</td>\n",
       "      <td>...</td>\n",
       "      <td>0.080455</td>\n",
       "      <td>0.119990</td>\n",
       "      <td>0.081880</td>\n",
       "      <td>0.027136</td>\n",
       "      <td>0.066859</td>\n",
       "      <td>0.027556</td>\n",
       "      <td>0.009116</td>\n",
       "      <td>0.064927</td>\n",
       "      <td>0.129110</td>\n",
       "      <td>0.078092</td>\n",
       "    </tr>\n",
       "    <tr>\n",
       "      <th>1</th>\n",
       "      <td>DR3.SPLUS-s29s46.072842</td>\n",
       "      <td>316.473196</td>\n",
       "      <td>-37.144562</td>\n",
       "      <td>16.424940</td>\n",
       "      <td>16.430645</td>\n",
       "      <td>16.393665</td>\n",
       "      <td>16.536879</td>\n",
       "      <td>16.533760</td>\n",
       "      <td>16.472448</td>\n",
       "      <td>16.822866</td>\n",
       "      <td>...</td>\n",
       "      <td>0.013612</td>\n",
       "      <td>0.012252</td>\n",
       "      <td>0.011860</td>\n",
       "      <td>0.004634</td>\n",
       "      <td>0.010763</td>\n",
       "      <td>0.005544</td>\n",
       "      <td>0.004280</td>\n",
       "      <td>0.007932</td>\n",
       "      <td>0.018400</td>\n",
       "      <td>0.013645</td>\n",
       "    </tr>\n",
       "    <tr>\n",
       "      <th>2</th>\n",
       "      <td>DR3.SPLUS-n15s05.030293</td>\n",
       "      <td>156.192221</td>\n",
       "      <td>-18.642301</td>\n",
       "      <td>11.614327</td>\n",
       "      <td>11.610277</td>\n",
       "      <td>11.617453</td>\n",
       "      <td>11.760632</td>\n",
       "      <td>11.777978</td>\n",
       "      <td>11.790471</td>\n",
       "      <td>12.091759</td>\n",
       "      <td>...</td>\n",
       "      <td>0.001532</td>\n",
       "      <td>0.001425</td>\n",
       "      <td>0.001421</td>\n",
       "      <td>0.000624</td>\n",
       "      <td>0.001372</td>\n",
       "      <td>0.000708</td>\n",
       "      <td>0.000562</td>\n",
       "      <td>0.000871</td>\n",
       "      <td>0.001652</td>\n",
       "      <td>0.001166</td>\n",
       "    </tr>\n",
       "    <tr>\n",
       "      <th>3</th>\n",
       "      <td>DR3.SPLUS-n15s05.030347</td>\n",
       "      <td>156.192404</td>\n",
       "      <td>-18.640259</td>\n",
       "      <td>13.979157</td>\n",
       "      <td>14.111893</td>\n",
       "      <td>13.513956</td>\n",
       "      <td>14.429493</td>\n",
       "      <td>13.812301</td>\n",
       "      <td>12.277587</td>\n",
       "      <td>14.090717</td>\n",
       "      <td>...</td>\n",
       "      <td>0.003713</td>\n",
       "      <td>0.005078</td>\n",
       "      <td>0.003709</td>\n",
       "      <td>0.000782</td>\n",
       "      <td>0.003533</td>\n",
       "      <td>0.001159</td>\n",
       "      <td>0.000538</td>\n",
       "      <td>0.002041</td>\n",
       "      <td>0.004123</td>\n",
       "      <td>0.002507</td>\n",
       "    </tr>\n",
       "    <tr>\n",
       "      <th>4</th>\n",
       "      <td>DR3.SPLUS-n15s05.044526</td>\n",
       "      <td>156.193295</td>\n",
       "      <td>-18.644074</td>\n",
       "      <td>13.660460</td>\n",
       "      <td>13.764969</td>\n",
       "      <td>13.152609</td>\n",
       "      <td>14.099626</td>\n",
       "      <td>13.472686</td>\n",
       "      <td>11.901996</td>\n",
       "      <td>13.737191</td>\n",
       "      <td>...</td>\n",
       "      <td>0.003131</td>\n",
       "      <td>0.004314</td>\n",
       "      <td>0.003150</td>\n",
       "      <td>0.000657</td>\n",
       "      <td>0.002979</td>\n",
       "      <td>0.000983</td>\n",
       "      <td>0.000534</td>\n",
       "      <td>0.001721</td>\n",
       "      <td>0.003521</td>\n",
       "      <td>0.002035</td>\n",
       "    </tr>\n",
       "  </tbody>\n",
       "</table>\n",
       "<p>5 rows × 27 columns</p>\n",
       "</div>"
      ],
      "text/plain": [
       "                        ID          RA        DEC  u_PStotal  J0378_PStotal  \\\n",
       "0    DR3.HYDRA-0026.050342  158.855358 -24.748192  19.067427      18.508986   \n",
       "1  DR3.SPLUS-s29s46.072842  316.473196 -37.144562  16.424940      16.430645   \n",
       "2  DR3.SPLUS-n15s05.030293  156.192221 -18.642301  11.614327      11.610277   \n",
       "3  DR3.SPLUS-n15s05.030347  156.192404 -18.640259  13.979157      14.111893   \n",
       "4  DR3.SPLUS-n15s05.044526  156.193295 -18.644074  13.660460      13.764969   \n",
       "\n",
       "   J0395_PStotal  J0410_PStotal  J0430_PStotal  g_PStotal  J0515_PStotal  ...  \\\n",
       "0      18.964823      19.348494      19.000832  18.663876      18.935287  ...   \n",
       "1      16.393665      16.536879      16.533760  16.472448      16.822866  ...   \n",
       "2      11.617453      11.760632      11.777978  11.790471      12.091759  ...   \n",
       "3      13.513956      14.429493      13.812301  12.277587      14.090717  ...   \n",
       "4      13.152609      14.099626      13.472686  11.901996      13.737191  ...   \n",
       "\n",
       "   e_J0395_PStotal  e_J0410_PStotal  e_J0430_PStotal  e_g_PStotal  \\\n",
       "0         0.080455         0.119990         0.081880     0.027136   \n",
       "1         0.013612         0.012252         0.011860     0.004634   \n",
       "2         0.001532         0.001425         0.001421     0.000624   \n",
       "3         0.003713         0.005078         0.003709     0.000782   \n",
       "4         0.003131         0.004314         0.003150     0.000657   \n",
       "\n",
       "   e_J0515_PStotal  e_r_PStotal  e_J0660_PStotal  e_i_PStotal  \\\n",
       "0         0.066859     0.027556         0.009116     0.064927   \n",
       "1         0.010763     0.005544         0.004280     0.007932   \n",
       "2         0.001372     0.000708         0.000562     0.000871   \n",
       "3         0.003533     0.001159         0.000538     0.002041   \n",
       "4         0.002979     0.000983         0.000534     0.001721   \n",
       "\n",
       "   e_J0861_PStotal  e_z_PStotal  \n",
       "0         0.129110     0.078092  \n",
       "1         0.018400     0.013645  \n",
       "2         0.001652     0.001166  \n",
       "3         0.004123     0.002507  \n",
       "4         0.003521     0.002035  \n",
       "\n",
       "[5 rows x 27 columns]"
      ]
     },
     "execution_count": 11,
     "metadata": {},
     "output_type": "execute_result"
    }
   ],
   "source": [
    "df.head()"
   ]
  },
  {
   "cell_type": "code",
   "execution_count": 12,
   "id": "a409e129-14b1-4a52-b406-df0070336f91",
   "metadata": {},
   "outputs": [
    {
     "data": {
      "text/plain": [
       "count                        14\n",
       "unique                       14\n",
       "top       DR3.HYDRA-0026.050342\n",
       "freq                          1\n",
       "Name: ID, dtype: object"
      ]
     },
     "execution_count": 12,
     "metadata": {},
     "output_type": "execute_result"
    }
   ],
   "source": [
    "df['ID'].describe()"
   ]
  },
  {
   "cell_type": "code",
   "execution_count": 13,
   "id": "7d343f6c-8fd5-4986-9b8b-4e3bf6db9138",
   "metadata": {},
   "outputs": [
    {
     "data": {
      "text/markdown": [
       "<div style='width:60%;margin-left:5%;overflow: scroll;max-height:500px'>\n",
       "\n",
       "You can set the display option for pandas to avoid scientific notation as follows:\n",
       "\n",
       "```\n",
       "import pandas as pd\n",
       "\n",
       "# Set display options\n",
       "pd.set_option('display.float_format', lambda x: '%.2f' % x)\n",
       "\n",
       "# Now pandas will display floats with 2 decimal points instead\n",
       "```\n",
       "\n",
       "This will ensure that pandas doesn't use scientific notation in its outputs and instead displays floats with 2 decimal points. You can insert this code at the beginning of your script for a global effect.\n",
       "\n",
       "</div>"
      ],
      "text/plain": [
       "<IPython.core.display.Markdown object>"
      ]
     },
     "metadata": {},
     "output_type": "display_data"
    }
   ],
   "source": [
    "%%chat --reset-conversation\n",
    "\n",
    "How can I avoid pandas using scientific notation in outputs, and do it globally?"
   ]
  },
  {
   "cell_type": "code",
   "execution_count": 14,
   "id": "baffd149-8b43-409c-ab57-eca79a0067da",
   "metadata": {},
   "outputs": [
    {
     "data": {
      "text/markdown": [
       "<div style='width:60%;margin-left:5%;overflow: scroll;max-height:500px'>\n",
       "\n",
       "Sí, hablo español. ¿En qué puedo ayudarte?\n",
       "\n",
       "</div>"
      ],
      "text/plain": [
       "<IPython.core.display.Markdown object>"
      ]
     },
     "metadata": {},
     "output_type": "display_data"
    }
   ],
   "source": [
    "%%chat --reset-conversation\n",
    "\n",
    "Do you speak spanish?"
   ]
  },
  {
   "cell_type": "code",
   "execution_count": 15,
   "id": "f06672f0-1cbb-4ed0-98cd-44c88af48c3c",
   "metadata": {},
   "outputs": [
    {
     "name": "stdout",
     "output_type": "stream",
     "text": [
      "Object `llamas` not found.\n"
     ]
    }
   ],
   "source": [
    "Cómo te llamas?"
   ]
  },
  {
   "cell_type": "code",
   "execution_count": 16,
   "id": "0cc99493-0b6b-4083-a065-3c1a1d5e9a73",
   "metadata": {},
   "outputs": [
    {
     "data": {
      "text/markdown": [
       "<div style='width:60%;margin-left:5%;overflow: scroll;max-height:500px'>\n",
       "\n",
       "¡Hola! Soy un asistente de codificación de ciencia de datos en Python, pero puedes llamarme como quieras. ¿En qué puedo ayudarte hoy?\n",
       "\n",
       "</div>"
      ],
      "text/plain": [
       "<IPython.core.display.Markdown object>"
      ]
     },
     "metadata": {},
     "output_type": "display_data"
    }
   ],
   "source": [
    "%%chat --reset-conversation\n",
    "\n",
    "Cómo te llmas?"
   ]
  },
  {
   "cell_type": "code",
   "execution_count": 17,
   "id": "83a48d58-5216-4048-bd2d-4c1b9972f66d",
   "metadata": {},
   "outputs": [
    {
     "data": {
      "text/markdown": [
       "<div style='width:60%;margin-left:5%;overflow: scroll;max-height:500px'>\n",
       "\n",
       "Sure, what do you need the code for? Please give me some context and details so that I can provide you with an appropriate code solution.\n",
       "\n",
       "</div>"
      ],
      "text/plain": [
       "<IPython.core.display.Markdown object>"
      ]
     },
     "metadata": {},
     "output_type": "display_data"
    }
   ],
   "source": [
    "%%chat\n",
    "\n",
    "Can you be more concise? Just give me the code"
   ]
  },
  {
   "cell_type": "code",
   "execution_count": 18,
   "id": "09d300cd-c490-4b24-971e-a286965cf11f",
   "metadata": {},
   "outputs": [
    {
     "data": {
      "text/markdown": [
       "<div style='width:60%;margin-left:5%;overflow: scroll;max-height:500px'>\n",
       "\n",
       "To set the pandas options to not display values in scientific notation, you can use the `pd.options.display.float_format` property and set it to `'{:.2f}'.format` or any other format you need.\n",
       "\n",
       "Here's an example code to achieve that:\n",
       "\n",
       "```python\n",
       "import pandas as pd\n",
       "\n",
       "# create a sample dataframe\n",
       "df = pd.DataFrame({'Values': [1000000, 0.0001, 123.456789]})\n",
       "\n",
       "# set the display format to not use scientific notation\n",
       "pd.options.display.float_format = '{:.2f}'.format\n",
       "\n",
       "# display the dataframe\n",
       "print(df)\n",
       "```\n",
       "\n",
       "This should display the float values of the dataframe without using scientific notation. You can adjust the decimal places or the format to your preferred display style.\n",
       "\n",
       "</div>"
      ],
      "text/plain": [
       "<IPython.core.display.Markdown object>"
      ]
     },
     "metadata": {},
     "output_type": "display_data"
    }
   ],
   "source": [
    "%%chat\n",
    "\n",
    " for set pandas options to not display values in scientific notation"
   ]
  },
  {
   "cell_type": "code",
   "execution_count": 19,
   "id": "ee7ccfb4-3250-45aa-ab51-ee336e9daa09",
   "metadata": {},
   "outputs": [],
   "source": [
    "df = pd.DataFrame({'Values': [1000000, 0.0001, 123.456789]})"
   ]
  },
  {
   "cell_type": "code",
   "execution_count": 20,
   "id": "73908434-85ff-4eb0-a19f-81c84793627d",
   "metadata": {},
   "outputs": [],
   "source": [
    "# set the display format to not use scientific notation\n",
    "pd.options.display.float_format = '{:.2f}'.format"
   ]
  },
  {
   "cell_type": "code",
   "execution_count": 21,
   "id": "b108eb85-c980-4d83-85b6-c32aaf793e25",
   "metadata": {},
   "outputs": [
    {
     "name": "stdout",
     "output_type": "stream",
     "text": [
      "      Values\n",
      "0 1000000.00\n",
      "1       0.00\n",
      "2     123.46\n"
     ]
    }
   ],
   "source": [
    "print(df)"
   ]
  },
  {
   "cell_type": "code",
   "execution_count": 22,
   "id": "e021cc8a-5218-4f1e-aca8-d3d0a4ea7da8",
   "metadata": {},
   "outputs": [
    {
     "name": "stderr",
     "output_type": "stream",
     "text": [
      "UsageError: %%chat is a cell magic, but the cell body is empty.\n"
     ]
    }
   ],
   "source": [
    "%%chat --system-message=\"You're a R Data Science assistant\" --reset-conversation"
   ]
  },
  {
   "cell_type": "code",
   "execution_count": 23,
   "id": "3d57bd8d-a215-4be5-956f-db9296685b9e",
   "metadata": {},
   "outputs": [
    {
     "data": {
      "text/markdown": [
       "<div style='width:60%;margin-left:5%;overflow: scroll;max-height:500px'>\n",
       "\n",
       "\n",
       "##### Conf set:\n",
       "\n",
       "* **Default model**: gpt-3.5-turbo\n",
       "* **Default system message**: You're a python data science coding assistant\n",
       "* **Chat history length**: 4\n",
       "\n",
       "\n",
       "</div>"
      ],
      "text/plain": [
       "<IPython.core.display.Markdown object>"
      ]
     },
     "metadata": {},
     "output_type": "display_data"
    }
   ],
   "source": [
    "%chat_config"
   ]
  },
  {
   "cell_type": "code",
   "execution_count": 24,
   "id": "5b5947d1-a9ff-4851-9710-d77301a01c46",
   "metadata": {},
   "outputs": [
    {
     "data": {
      "text/markdown": [
       "<div style='width:60%;margin-left:5%;overflow: scroll;max-height:500px'>\n",
       "\n",
       "##### Available models:\n",
       "\n",
       "\t- gpt-3.5-turbo\n",
       "\t- gpt-3.5-turbo-0301\n",
       "\n",
       "</div>"
      ],
      "text/plain": [
       "<IPython.core.display.Markdown object>"
      ]
     },
     "metadata": {},
     "output_type": "display_data"
    }
   ],
   "source": [
    "%chat_models"
   ]
  },
  {
   "cell_type": "code",
   "execution_count": null,
   "id": "353cf6d5-39bf-421d-8a68-6e3a72186db2",
   "metadata": {},
   "outputs": [],
   "source": []
  }
 ],
 "metadata": {
  "kernelspec": {
   "display_name": "Python 3 (ipykernel)",
   "language": "python",
   "name": "python3"
  },
  "language_info": {
   "codemirror_mode": {
    "name": "ipython",
    "version": 3
   },
   "file_extension": ".py",
   "mimetype": "text/x-python",
   "name": "python",
   "nbconvert_exporter": "python",
   "pygments_lexer": "ipython3",
   "version": "3.8.5"
  }
 },
 "nbformat": 4,
 "nbformat_minor": 5
}
